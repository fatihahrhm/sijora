{
 "metadata": {
  "language_info": {
   "codemirror_mode": {
    "name": "ipython",
    "version": 3
   },
   "file_extension": ".py",
   "mimetype": "text/x-python",
   "name": "python",
   "nbconvert_exporter": "python",
   "pygments_lexer": "ipython3",
   "version": "3.8.1"
  },
  "orig_nbformat": 2,
  "kernelspec": {
   "name": "python381jvsc74a57bd00ea0d9382c92e9fce6e0b3ad5a5fa5a41a03cb469de77f91c6900c460a25d5b7",
   "display_name": "Python 3.8.1 64-bit"
  }
 },
 "nbformat": 4,
 "nbformat_minor": 2,
 "cells": [
  {
   "cell_type": "code",
   "execution_count": 8,
   "metadata": {},
   "outputs": [],
   "source": [
    "import pandas as pd\n",
    "import re, os\n",
    "import numpy as np\n",
    "import string\n",
    "from Sastrawi.StopWordRemover.StopWordRemoverFactory import StopWordRemoverFactory\n",
    "from Sastrawi.Stemmer.StemmerFactory import StemmerFactory\n",
    "import preprocessor as p\n",
    "from IPython.display import clear_output\n",
    "os.chdir(\"D:/Semester 8/.Final Project/.machine learning\")"
   ]
  },
  {
   "cell_type": "code",
   "execution_count": 32,
   "metadata": {},
   "outputs": [
    {
     "output_type": "execute_result",
     "data": {
      "text/plain": [
       "    Sentiment                                               Text\n",
       "0    negative   <USERNAME> TOLOL!! Gak ada hubungan nya kegug...\n",
       "1    negative  Geblek lo tata...cowo bgt dibela2in balikan......\n",
       "2    negative  Kmrn termewek2 skr lengket lg duhhh kok labil ...\n",
       "3    negative  Intinya kalau kesel dengan ATT nya, gausah ke ...\n",
       "4    negative  hadewwwww permpuan itu lg!!!!sakit jiwa,knp ha...\n",
       "..        ...                                                ...\n",
       "395  positive  Bangga sama suami yg selalu ingat istri disela...\n",
       "396  positive  Apaoun pekerjaannya yg penting halal u tuk men...\n",
       "397  positive  Gojek itu mayoritas pegangguran yang lama gak ...\n",
       "398  positive   <USERNAME> aslinya cantik dan ayu loh mbak kr...\n",
       "399  positive   <USERNAME> suami saya seumuran sama saya mba,...\n",
       "\n",
       "[400 rows x 2 columns]"
      ],
      "text/html": "<div>\n<style scoped>\n    .dataframe tbody tr th:only-of-type {\n        vertical-align: middle;\n    }\n\n    .dataframe tbody tr th {\n        vertical-align: top;\n    }\n\n    .dataframe thead th {\n        text-align: right;\n    }\n</style>\n<table border=\"1\" class=\"dataframe\">\n  <thead>\n    <tr style=\"text-align: right;\">\n      <th></th>\n      <th>Sentiment</th>\n      <th>Text</th>\n    </tr>\n  </thead>\n  <tbody>\n    <tr>\n      <th>0</th>\n      <td>negative</td>\n      <td>&lt;USERNAME&gt; TOLOL!! Gak ada hubungan nya kegug...</td>\n    </tr>\n    <tr>\n      <th>1</th>\n      <td>negative</td>\n      <td>Geblek lo tata...cowo bgt dibela2in balikan......</td>\n    </tr>\n    <tr>\n      <th>2</th>\n      <td>negative</td>\n      <td>Kmrn termewek2 skr lengket lg duhhh kok labil ...</td>\n    </tr>\n    <tr>\n      <th>3</th>\n      <td>negative</td>\n      <td>Intinya kalau kesel dengan ATT nya, gausah ke ...</td>\n    </tr>\n    <tr>\n      <th>4</th>\n      <td>negative</td>\n      <td>hadewwwww permpuan itu lg!!!!sakit jiwa,knp ha...</td>\n    </tr>\n    <tr>\n      <th>...</th>\n      <td>...</td>\n      <td>...</td>\n    </tr>\n    <tr>\n      <th>395</th>\n      <td>positive</td>\n      <td>Bangga sama suami yg selalu ingat istri disela...</td>\n    </tr>\n    <tr>\n      <th>396</th>\n      <td>positive</td>\n      <td>Apaoun pekerjaannya yg penting halal u tuk men...</td>\n    </tr>\n    <tr>\n      <th>397</th>\n      <td>positive</td>\n      <td>Gojek itu mayoritas pegangguran yang lama gak ...</td>\n    </tr>\n    <tr>\n      <th>398</th>\n      <td>positive</td>\n      <td>&lt;USERNAME&gt; aslinya cantik dan ayu loh mbak kr...</td>\n    </tr>\n    <tr>\n      <th>399</th>\n      <td>positive</td>\n      <td>&lt;USERNAME&gt; suami saya seumuran sama saya mba,...</td>\n    </tr>\n  </tbody>\n</table>\n<p>400 rows × 2 columns</p>\n</div>"
     },
     "metadata": {},
     "execution_count": 32
    }
   ],
   "source": [
    "data_train = pd.read_csv(r\"D:\\Semester 8\\.Final Project\\.machine learning\\dataset\\cyberbullying.csv\")\n",
    "data_train.drop(columns='Id', inplace=True)\n",
    "data_train.columns = ['Sentiment', 'Text']"
   ]
  },
  {
   "cell_type": "code",
   "execution_count": 33,
   "metadata": {},
   "outputs": [
    {
     "output_type": "execute_result",
     "data": {
      "text/plain": [
       "     Sentiment                                               Text\n",
       "0            0   <USERNAME> TOLOL!! Gak ada hubungan nya kegug...\n",
       "1            0  Geblek lo tata...cowo bgt dibela2in balikan......\n",
       "2            0  Kmrn termewek2 skr lengket lg duhhh kok labil ...\n",
       "3            0  Intinya kalau kesel dengan ATT nya, gausah ke ...\n",
       "4            0  hadewwwww permpuan itu lg!!!!sakit jiwa,knp ha...\n",
       "..         ...                                                ...\n",
       "395          1  Bangga sama suami yg selalu ingat istri disela...\n",
       "396          1  Apaoun pekerjaannya yg penting halal u tuk men...\n",
       "397          1  Gojek itu mayoritas pegangguran yang lama gak ...\n",
       "398          1   <USERNAME> aslinya cantik dan ayu loh mbak kr...\n",
       "399          1   <USERNAME> suami saya seumuran sama saya mba,...\n",
       "\n",
       "[400 rows x 2 columns]"
      ],
      "text/html": "<div>\n<style scoped>\n    .dataframe tbody tr th:only-of-type {\n        vertical-align: middle;\n    }\n\n    .dataframe tbody tr th {\n        vertical-align: top;\n    }\n\n    .dataframe thead th {\n        text-align: right;\n    }\n</style>\n<table border=\"1\" class=\"dataframe\">\n  <thead>\n    <tr style=\"text-align: right;\">\n      <th></th>\n      <th>Sentiment</th>\n      <th>Text</th>\n    </tr>\n  </thead>\n  <tbody>\n    <tr>\n      <th>0</th>\n      <td>0</td>\n      <td>&lt;USERNAME&gt; TOLOL!! Gak ada hubungan nya kegug...</td>\n    </tr>\n    <tr>\n      <th>1</th>\n      <td>0</td>\n      <td>Geblek lo tata...cowo bgt dibela2in balikan......</td>\n    </tr>\n    <tr>\n      <th>2</th>\n      <td>0</td>\n      <td>Kmrn termewek2 skr lengket lg duhhh kok labil ...</td>\n    </tr>\n    <tr>\n      <th>3</th>\n      <td>0</td>\n      <td>Intinya kalau kesel dengan ATT nya, gausah ke ...</td>\n    </tr>\n    <tr>\n      <th>4</th>\n      <td>0</td>\n      <td>hadewwwww permpuan itu lg!!!!sakit jiwa,knp ha...</td>\n    </tr>\n    <tr>\n      <th>...</th>\n      <td>...</td>\n      <td>...</td>\n    </tr>\n    <tr>\n      <th>395</th>\n      <td>1</td>\n      <td>Bangga sama suami yg selalu ingat istri disela...</td>\n    </tr>\n    <tr>\n      <th>396</th>\n      <td>1</td>\n      <td>Apaoun pekerjaannya yg penting halal u tuk men...</td>\n    </tr>\n    <tr>\n      <th>397</th>\n      <td>1</td>\n      <td>Gojek itu mayoritas pegangguran yang lama gak ...</td>\n    </tr>\n    <tr>\n      <th>398</th>\n      <td>1</td>\n      <td>&lt;USERNAME&gt; aslinya cantik dan ayu loh mbak kr...</td>\n    </tr>\n    <tr>\n      <th>399</th>\n      <td>1</td>\n      <td>&lt;USERNAME&gt; suami saya seumuran sama saya mba,...</td>\n    </tr>\n  </tbody>\n</table>\n<p>400 rows × 2 columns</p>\n</div>"
     },
     "metadata": {},
     "execution_count": 33
    }
   ],
   "source": [
    "from sklearn import preprocessing\n",
    "lb = preprocessing.LabelBinarizer()\n",
    "data_train['Sentiment'] = lb.fit_transform(data_train['Sentiment'])\n",
    "data_train\n"
   ]
  },
  {
   "cell_type": "code",
   "execution_count": 34,
   "metadata": {},
   "outputs": [],
   "source": [
    "# Replace Acronym\n",
    "\n",
    "acronym = {}\n",
    "with open(r'D:\\Semester 8\\.Final Project\\.machine learning\\dataset\\acronym.txt') as file:\n",
    "    # next(file) # skip the first line \"before, after\"\n",
    "    for line in file:\n",
    "        k, v = line.strip().split(' = ')\n",
    "        acronym[k] = v\n",
    "\n",
    "def replace_acronym(tweet):\n",
    "    return ' '.join(acronym.get(x.upper(), x) for x in tweet.split())"
   ]
  },
  {
   "cell_type": "code",
   "execution_count": 35,
   "metadata": {},
   "outputs": [],
   "source": [
    "# Replace Slang Words\n",
    "\n",
    "slang = {}\n",
    "with open(r'D:\\Semester 8\\.Final Project\\.machine learning\\dataset\\kamusalay.csv') as file:\n",
    "    # next(file) # skip the first line \"before, after\"\n",
    "    for line in file:\n",
    "        k, v = line.strip().split(',')\n",
    "        slang[k] = v\n",
    "\n",
    "def replace_slang(tweet):\n",
    "    return ' '.join(slang.get(x.lower(), x) for x in tweet.split())"
   ]
  },
  {
   "cell_type": "code",
   "execution_count": 36,
   "metadata": {},
   "outputs": [],
   "source": [
    "# Replace Emoji\n",
    "\n",
    "from emoji import UNICODE_EMOJI\n",
    "\n",
    "emoji = {}\n",
    "with open(r'D:\\Semester 8\\.Final Project\\.machine learning\\dataset\\emoji.txt', encoding=\"utf8\") as file:\n",
    "    # next(file) # skip the first line \"before, after\"\n",
    "    for line in file:\n",
    "        k, v = line.strip().split(', ')\n",
    "        emoji[k] = v\n",
    "\n",
    "def is_emoji(s):\n",
    "    return s in UNICODE_EMOJI\n",
    "\n",
    "def replace_emoji(tweet):\n",
    "    result = ' '\n",
    "    for char in tweet:\n",
    "        if is_emoji(char):\n",
    "            result = result + ' ' + emoji.get(char, char)\n",
    "        else:\n",
    "            result += emoji.get(char, char)\n",
    "    return result"
   ]
  },
  {
   "cell_type": "code",
   "execution_count": null,
   "metadata": {},
   "outputs": [],
   "source": [
    "teks.replace('<USERNAME>', '')"
   ]
  },
  {
   "cell_type": "code",
   "execution_count": 43,
   "metadata": {},
   "outputs": [],
   "source": [
    "# get stopwords\n",
    "factory = StopWordRemoverFactory()\n",
    "stopword = factory.create_stop_word_remover()\n",
    "\n",
    "# initiate stemmer\n",
    "factory = StemmerFactory()\n",
    "stemmer = factory.create_stemmer()\n",
    "\n",
    "# tweet-preprocess\n",
    "p.set_options(p.OPT.URL, p.OPT.MENTION, p.OPT.HASHTAG, p.OPT.NUMBER)\n",
    "\n",
    "def data_cleaning(data): \n",
    "\n",
    "    cek = []\n",
    "    for i, text in enumerate (data['Text']):\n",
    "        text = text.lower()\n",
    "        # stopword removal\n",
    "        text = stopword.remove(text)\n",
    "        text = re.sub(\"\\d+\", \"\", text)\n",
    "        \n",
    "        # remove @username\n",
    "        text = p.clean(text)\n",
    "        text = re.sub(\"(@[^\\s]+|@[A-Za-z0-9]+)\", \" \", text)\n",
    "\n",
    "        # replace emoji\n",
    "        text = replace_emoji(str(text))\n",
    "\n",
    "        # replace slang words\n",
    "        text = replace_slang(str(text))        \n",
    "\n",
    "        # replace abbreviation\n",
    "        text = replace_acronym(str(text))        \n",
    "\n",
    "        # stemming\n",
    "        text = stemmer.stem(text)\n",
    "        \n",
    "        # remove duplicate char\n",
    "        text = re.sub(r'(.)\\1+$', r'\\1', text)\n",
    "        # tokenizing + append\n",
    "        cek.append(text.strip())\n",
    "\n",
    "    data['Clean text'] = cek\n",
    "\n",
    "    return data"
   ]
  },
  {
   "cell_type": "code",
   "execution_count": 44,
   "metadata": {},
   "outputs": [
    {
     "output_type": "execute_result",
     "data": {
      "text/plain": [
       "     Sentiment                                               Text  \\\n",
       "0            0   <USERNAME> TOLOL!! Gak ada hubungan nya kegug...   \n",
       "1            0  Geblek lo tata...cowo bgt dibela2in balikan......   \n",
       "2            0  Kmrn termewek2 skr lengket lg duhhh kok labil ...   \n",
       "3            0  Intinya kalau kesel dengan ATT nya, gausah ke ...   \n",
       "4            0  hadewwwww permpuan itu lg!!!!sakit jiwa,knp ha...   \n",
       "..         ...                                                ...   \n",
       "395          1  Bangga sama suami yg selalu ingat istri disela...   \n",
       "396          1  Apaoun pekerjaannya yg penting halal u tuk men...   \n",
       "397          1  Gojek itu mayoritas pegangguran yang lama gak ...   \n",
       "398          1   <USERNAME> aslinya cantik dan ayu loh mbak kr...   \n",
       "399          1   <USERNAME> suami saya seumuran sama saya mba,...   \n",
       "\n",
       "                                            Clean text  \n",
       "0    username tolol tidak hubung nya gugur dengan p...  \n",
       "1    geblek kamu tata cowo banget bela balik hadeww...  \n",
       "2    kemarin mewek sekarang lengket lagi duhhh kok ...  \n",
       "3    inti kalau kesal att nya tidak usah anak juga ...  \n",
       "4    hadewwwww permpuan lg sakit jiwa knp daerah is...  \n",
       "..                                                 ...  \n",
       "395  bangga sama suami yang selalu ingat istri sela...  \n",
       "396  apa kerja yang penting halal kamu untuk nafkah...  \n",
       "397  gojek mayoritas pegangguran lama tidak kerja t...  \n",
       "398  username asli cantik ayu lah mbak karena aku t...  \n",
       "399  username suami umur sama mba malah tua beberap...  \n",
       "\n",
       "[400 rows x 3 columns]"
      ],
      "text/html": "<div>\n<style scoped>\n    .dataframe tbody tr th:only-of-type {\n        vertical-align: middle;\n    }\n\n    .dataframe tbody tr th {\n        vertical-align: top;\n    }\n\n    .dataframe thead th {\n        text-align: right;\n    }\n</style>\n<table border=\"1\" class=\"dataframe\">\n  <thead>\n    <tr style=\"text-align: right;\">\n      <th></th>\n      <th>Sentiment</th>\n      <th>Text</th>\n      <th>Clean text</th>\n    </tr>\n  </thead>\n  <tbody>\n    <tr>\n      <th>0</th>\n      <td>0</td>\n      <td>&lt;USERNAME&gt; TOLOL!! Gak ada hubungan nya kegug...</td>\n      <td>username tolol tidak hubung nya gugur dengan p...</td>\n    </tr>\n    <tr>\n      <th>1</th>\n      <td>0</td>\n      <td>Geblek lo tata...cowo bgt dibela2in balikan......</td>\n      <td>geblek kamu tata cowo banget bela balik hadeww...</td>\n    </tr>\n    <tr>\n      <th>2</th>\n      <td>0</td>\n      <td>Kmrn termewek2 skr lengket lg duhhh kok labil ...</td>\n      <td>kemarin mewek sekarang lengket lagi duhhh kok ...</td>\n    </tr>\n    <tr>\n      <th>3</th>\n      <td>0</td>\n      <td>Intinya kalau kesel dengan ATT nya, gausah ke ...</td>\n      <td>inti kalau kesal att nya tidak usah anak juga ...</td>\n    </tr>\n    <tr>\n      <th>4</th>\n      <td>0</td>\n      <td>hadewwwww permpuan itu lg!!!!sakit jiwa,knp ha...</td>\n      <td>hadewwwww permpuan lg sakit jiwa knp daerah is...</td>\n    </tr>\n    <tr>\n      <th>...</th>\n      <td>...</td>\n      <td>...</td>\n      <td>...</td>\n    </tr>\n    <tr>\n      <th>395</th>\n      <td>1</td>\n      <td>Bangga sama suami yg selalu ingat istri disela...</td>\n      <td>bangga sama suami yang selalu ingat istri sela...</td>\n    </tr>\n    <tr>\n      <th>396</th>\n      <td>1</td>\n      <td>Apaoun pekerjaannya yg penting halal u tuk men...</td>\n      <td>apa kerja yang penting halal kamu untuk nafkah...</td>\n    </tr>\n    <tr>\n      <th>397</th>\n      <td>1</td>\n      <td>Gojek itu mayoritas pegangguran yang lama gak ...</td>\n      <td>gojek mayoritas pegangguran lama tidak kerja t...</td>\n    </tr>\n    <tr>\n      <th>398</th>\n      <td>1</td>\n      <td>&lt;USERNAME&gt; aslinya cantik dan ayu loh mbak kr...</td>\n      <td>username asli cantik ayu lah mbak karena aku t...</td>\n    </tr>\n    <tr>\n      <th>399</th>\n      <td>1</td>\n      <td>&lt;USERNAME&gt; suami saya seumuran sama saya mba,...</td>\n      <td>username suami umur sama mba malah tua beberap...</td>\n    </tr>\n  </tbody>\n</table>\n<p>400 rows × 3 columns</p>\n</div>"
     },
     "metadata": {},
     "execution_count": 44
    }
   ],
   "source": [
    "clean_data = data_cleaning(data_train)\n",
    "clean_data"
   ]
  }
 ]
}