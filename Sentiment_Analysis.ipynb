{
  "nbformat": 4,
  "nbformat_minor": 0,
  "metadata": {
    "colab": {
      "name": "Sentiment Analysis.ipynb",
      "provenance": [],
      "collapsed_sections": [],
      "authorship_tag": "ABX9TyPTQboSjtfr4faK5tbbmLAT",
      "include_colab_link": true
    },
    "kernelspec": {
      "name": "python3",
      "display_name": "Python 3"
    },
    "language_info": {
      "name": "python"
    }
  },
  "cells": [
    {
      "cell_type": "markdown",
      "metadata": {
        "id": "view-in-github",
        "colab_type": "text"
      },
      "source": [
        "<a href=\"https://colab.research.google.com/github/fatihahrhm/sijora/blob/main/Sentiment_Analysis.ipynb\" target=\"_parent\"><img src=\"https://colab.research.google.com/assets/colab-badge.svg\" alt=\"Open In Colab\"/></a>"
      ]
    },
    {
      "cell_type": "code",
      "metadata": {
        "colab": {
          "base_uri": "https://localhost:8080/"
        },
        "id": "FrbO1BOl8Ct4",
        "outputId": "d3fd1bd3-7603-4884-b9b0-0aee128aab1e"
      },
      "source": [
        "import pandas as pd\n",
        "import numpy as np\n",
        "import tensorflow as tf\n",
        "from tensorflow import keras\n",
        "from tensorflow.keras.callbacks import EarlyStopping\n",
        "from tensorflow.keras.layers import Dense, Activation,Dropout\n",
        "from tensorflow.keras.models import Sequential\n",
        "\n",
        "import re\n",
        "\n",
        "!pip install sastrawi\n",
        "from Sastrawi.StopWordRemover.StopWordRemoverFactory import StopWordRemoverFactory\n",
        "from Sastrawi.Stemmer.StemmerFactory import StemmerFactory\n",
        "\n",
        "!pip install emoji\n",
        "from emoji import UNICODE_EMOJI\n",
        "\n",
        "from IPython.display import clear_output\n",
        "\n",
        "from sklearn.feature_extraction.text import CountVectorizer, TfidfTransformer, TfidfVectorizer\n",
        "\n",
        "from sklearn.model_selection import train_test_split"
      ],
      "execution_count": 3,
      "outputs": [
        {
          "output_type": "stream",
          "text": [
            "Requirement already satisfied: sastrawi in /usr/local/lib/python3.7/dist-packages (1.0.1)\n",
            "Requirement already satisfied: emoji in /usr/local/lib/python3.7/dist-packages (1.2.0)\n"
          ],
          "name": "stdout"
        }
      ]
    },
    {
      "cell_type": "code",
      "metadata": {
        "colab": {
          "base_uri": "https://localhost:8080/"
        },
        "id": "2vcgaU4u8Y7y",
        "outputId": "e6f82924-cd05-47f0-c7ac-438ae4febcc1"
      },
      "source": [
        "from google.colab import drive\n",
        "drive.mount('/content/Drive/')"
      ],
      "execution_count": 4,
      "outputs": [
        {
          "output_type": "stream",
          "text": [
            "Drive already mounted at /content/Drive/; to attempt to forcibly remount, call drive.mount(\"/content/Drive/\", force_remount=True).\n"
          ],
          "name": "stdout"
        }
      ]
    },
    {
      "cell_type": "markdown",
      "metadata": {
        "id": "th-0Guls9Rld"
      },
      "source": [
        "# **Load Dataset**"
      ]
    },
    {
      "cell_type": "code",
      "metadata": {
        "colab": {
          "base_uri": "https://localhost:8080/",
          "height": 202
        },
        "id": "ID40P8I98Vcn",
        "outputId": "599ee0cf-5488-4d0b-ffef-597695c60524"
      },
      "source": [
        "df = pd.read_csv(\"/content/Drive/My Drive/Dataset/dataset.csv\", delimiter=\"\t\")\n",
        "df.head()"
      ],
      "execution_count": 20,
      "outputs": [
        {
          "output_type": "execute_result",
          "data": {
            "text/html": [
              "<div>\n",
              "<style scoped>\n",
              "    .dataframe tbody tr th:only-of-type {\n",
              "        vertical-align: middle;\n",
              "    }\n",
              "\n",
              "    .dataframe tbody tr th {\n",
              "        vertical-align: top;\n",
              "    }\n",
              "\n",
              "    .dataframe thead th {\n",
              "        text-align: right;\n",
              "    }\n",
              "</style>\n",
              "<table border=\"1\" class=\"dataframe\">\n",
              "  <thead>\n",
              "    <tr style=\"text-align: right;\">\n",
              "      <th></th>\n",
              "      <th>sentimen</th>\n",
              "      <th>Tweet</th>\n",
              "    </tr>\n",
              "  </thead>\n",
              "  <tbody>\n",
              "    <tr>\n",
              "      <th>0</th>\n",
              "      <td>-1</td>\n",
              "      <td>lagu bosan apa yang aku save ni huhuhuhuhuhuhu...</td>\n",
              "    </tr>\n",
              "    <tr>\n",
              "      <th>1</th>\n",
              "      <td>-1</td>\n",
              "      <td>kita lanjutkan saja diam ini hingga kau dan ak...</td>\n",
              "    </tr>\n",
              "    <tr>\n",
              "      <th>2</th>\n",
              "      <td>1</td>\n",
              "      <td>doa rezeki tak putus inna haa zaa larizquna ma...</td>\n",
              "    </tr>\n",
              "    <tr>\n",
              "      <th>3</th>\n",
              "      <td>1</td>\n",
              "      <td>makasih loh ntar kita bagi hasil aku 99 9 sisa...</td>\n",
              "    </tr>\n",
              "    <tr>\n",
              "      <th>4</th>\n",
              "      <td>-1</td>\n",
              "      <td>aku tak faham betul jenis orang malaysia yang ...</td>\n",
              "    </tr>\n",
              "  </tbody>\n",
              "</table>\n",
              "</div>"
            ],
            "text/plain": [
              "   sentimen                                              Tweet\n",
              "0        -1  lagu bosan apa yang aku save ni huhuhuhuhuhuhu...\n",
              "1        -1  kita lanjutkan saja diam ini hingga kau dan ak...\n",
              "2         1  doa rezeki tak putus inna haa zaa larizquna ma...\n",
              "3         1  makasih loh ntar kita bagi hasil aku 99 9 sisa...\n",
              "4        -1  aku tak faham betul jenis orang malaysia yang ..."
            ]
          },
          "metadata": {
            "tags": []
          },
          "execution_count": 20
        }
      ]
    },
    {
      "cell_type": "markdown",
      "metadata": {
        "id": "yAhndrvU9Xea"
      },
      "source": [
        "# **Exploratory Data Analysis**"
      ]
    },
    {
      "cell_type": "code",
      "metadata": {
        "id": "Zb9RruEP9KBg"
      },
      "source": [
        "import matplotlib.pyplot as plt\n",
        "import seaborn as sns\n",
        "%matplotlib inline"
      ],
      "execution_count": 21,
      "outputs": []
    },
    {
      "cell_type": "code",
      "metadata": {
        "colab": {
          "base_uri": "https://localhost:8080/",
          "height": 313
        },
        "id": "1-DrY3P_9i03",
        "outputId": "4c14f745-2e5a-4e8a-f669-59149361930b"
      },
      "source": [
        "sns.countplot(x='sentimen', data=df).set_title('Sentiment Countplot')"
      ],
      "execution_count": 22,
      "outputs": [
        {
          "output_type": "execute_result",
          "data": {
            "text/plain": [
              "Text(0.5, 1.0, 'Sentiment Countplot')"
            ]
          },
          "metadata": {
            "tags": []
          },
          "execution_count": 22
        },
        {
          "output_type": "display_data",
          "data": {
            "image/png": "[encoded data removed]",
            "text/plain": [
              "<Figure size 432x288 with 1 Axes>"
            ]
          },
          "metadata": {
            "tags": [],
            "needs_background": "light"
          }
        }
      ]
    },
    {
      "cell_type": "code",
      "metadata": {
        "colab": {
          "base_uri": "https://localhost:8080/",
          "height": 415
        },
        "id": "nxJL8GXDq4CY",
        "outputId": "0c5bb0c5-df68-41d1-df9d-93a5d3d87893"
      },
      "source": [
        "neutral = df[df['sentimen'] == 0][0:2500]\n",
        "negative = df[df['sentimen'] == -1][0:2500]\n",
        "positive = df[df['sentimen'] == 1][0:2500]\n",
        "\n",
        "df = pd.concat([neutral, negative, positive], axis=0)\n",
        "df.reset_index(drop=True, inplace=True)\n",
        "df"
      ],
      "execution_count": 23,
      "outputs": [
        {
          "output_type": "execute_result",
          "data": {
            "text/html": [
              "<div>\n",
              "<style scoped>\n",
              "    .dataframe tbody tr th:only-of-type {\n",
              "        vertical-align: middle;\n",
              "    }\n",
              "\n",
              "    .dataframe tbody tr th {\n",
              "        vertical-align: top;\n",
              "    }\n",
              "\n",
              "    .dataframe thead th {\n",
              "        text-align: right;\n",
              "    }\n",
              "</style>\n",
              "<table border=\"1\" class=\"dataframe\">\n",
              "  <thead>\n",
              "    <tr style=\"text-align: right;\">\n",
              "      <th></th>\n",
              "      <th>sentimen</th>\n",
              "      <th>Tweet</th>\n",
              "    </tr>\n",
              "  </thead>\n",
              "  <tbody>\n",
              "    <tr>\n",
              "      <th>0</th>\n",
              "      <td>0</td>\n",
              "      <td>barusan liat tulisan di belakang truk rela inj...</td>\n",
              "    </tr>\n",
              "    <tr>\n",
              "      <th>1</th>\n",
              "      <td>0</td>\n",
              "      <td>her itu lho miss kevin sama keven rebutan gimb...</td>\n",
              "    </tr>\n",
              "    <tr>\n",
              "      <th>2</th>\n",
              "      <td>0</td>\n",
              "      <td>iya rep gatau aku masih kelas 4 sd ehh di block</td>\n",
              "    </tr>\n",
              "    <tr>\n",
              "      <th>3</th>\n",
              "      <td>0</td>\n",
              "      <td>aku mohon tepatilah janjimu penantiancintaeps19</td>\n",
              "    </tr>\n",
              "    <tr>\n",
              "      <th>4</th>\n",
              "      <td>0</td>\n",
              "      <td>bukan beria nk kahwin sbb gatal celah kangkang...</td>\n",
              "    </tr>\n",
              "    <tr>\n",
              "      <th>...</th>\n",
              "      <td>...</td>\n",
              "      <td>...</td>\n",
              "    </tr>\n",
              "    <tr>\n",
              "      <th>7495</th>\n",
              "      <td>1</td>\n",
              "      <td>kelak kita akan saling meninggalkan untuk sebu...</td>\n",
              "    </tr>\n",
              "    <tr>\n",
              "      <th>7496</th>\n",
              "      <td>1</td>\n",
              "      <td>cinta batik cinta indonesia haribatiknasional</td>\n",
              "    </tr>\n",
              "    <tr>\n",
              "      <th>7497</th>\n",
              "      <td>1</td>\n",
              "      <td>lucu sekali sih kamu jadi pen gigit</td>\n",
              "    </tr>\n",
              "    <tr>\n",
              "      <th>7498</th>\n",
              "      <td>1</td>\n",
              "      <td>emng gemesin mereka</td>\n",
              "    </tr>\n",
              "    <tr>\n",
              "      <th>7499</th>\n",
              "      <td>1</td>\n",
              "      <td>ayukk kita serang</td>\n",
              "    </tr>\n",
              "  </tbody>\n",
              "</table>\n",
              "<p>7500 rows × 2 columns</p>\n",
              "</div>"
            ],
            "text/plain": [
              "      sentimen                                              Tweet\n",
              "0            0  barusan liat tulisan di belakang truk rela inj...\n",
              "1            0  her itu lho miss kevin sama keven rebutan gimb...\n",
              "2            0   iya rep gatau aku masih kelas 4 sd ehh di block \n",
              "3            0    aku mohon tepatilah janjimu penantiancintaeps19\n",
              "4            0  bukan beria nk kahwin sbb gatal celah kangkang...\n",
              "...        ...                                                ...\n",
              "7495         1  kelak kita akan saling meninggalkan untuk sebu...\n",
              "7496         1      cinta batik cinta indonesia haribatiknasional\n",
              "7497         1               lucu sekali sih kamu jadi pen gigit \n",
              "7498         1                               emng gemesin mereka \n",
              "7499         1                                  ayukk kita serang\n",
              "\n",
              "[7500 rows x 2 columns]"
            ]
          },
          "metadata": {
            "tags": []
          },
          "execution_count": 23
        }
      ]
    },
    {
      "cell_type": "markdown",
      "metadata": {
        "id": "Gn7uoIGH_S2g"
      },
      "source": [
        "# **Preprocessing**"
      ]
    },
    {
      "cell_type": "code",
      "metadata": {
        "id": "cNWzPfvwAlSq"
      },
      "source": [
        "emoji = {}\n",
        "with open('/content/Drive/My Drive/Dataset/emoji.txt', encoding=\"utf8\") as file:\n",
        "    for line in file:\n",
        "        k, v = line.strip().split(', ')\n",
        "        emoji[k] = v\n",
        "\n",
        "def is_emoji(s):\n",
        "    return s in UNICODE_EMOJI\n",
        "\n",
        "def replace_emoji(tweet):\n",
        "    result = ' '\n",
        "    for char in tweet:\n",
        "        if is_emoji(char):\n",
        "            result = result + ' ' + emoji.get(char, char)\n",
        "        else:\n",
        "            result += emoji.get(char, char)\n",
        "    return result"
      ],
      "execution_count": 24,
      "outputs": []
    },
    {
      "cell_type": "code",
      "metadata": {
        "id": "tqSbmaZYA5RZ"
      },
      "source": [
        "# get stopwords\n",
        "factory = StopWordRemoverFactory()\n",
        "stopword = factory.create_stop_word_remover()\n",
        "\n",
        "# initiate stemmer\n",
        "factory = StemmerFactory()\n",
        "stemmer = factory.create_stemmer()\n",
        "\n",
        "def data_cleaning(data): \n",
        "\n",
        "    cek = []\n",
        "    for i, tweet in enumerate (data['Tweet']):\n",
        "        tweet = tweet.lower()\n",
        "        \n",
        "        # remove @username\n",
        "        tweet = re.sub(\"(@[^\\s]+|@[A-Za-z0-9]+)\", \" \", tweet)\n",
        "\n",
        "        # replace emoji\n",
        "        tweet = replace_emoji(str(tweet))        \n",
        "        \n",
        "        # stopword removal\n",
        "        tweet = stopword.remove(tweet)\n",
        "        tweet = re.sub(\"\\d+\", \"\", tweet)\n",
        "\n",
        "        # stemming\n",
        "        tweet = stemmer.stem(tweet)\n",
        "        \n",
        "        # remove duplicate char\n",
        "        tweet = re.sub(r'(.)\\1+$', r'\\1', tweet)\n",
        "        # tokenizing + append\n",
        "        cek.append(tweet.strip())\n",
        "        \n",
        "        clear_output(wait=True)\n",
        "        print(\"Progress \", str((i+1)/len(data['Tweet'])*100) + \" %\" )\n",
        "    data['cleantweet'] = cek\n",
        "    return data"
      ],
      "execution_count": 25,
      "outputs": []
    },
    {
      "cell_type": "code",
      "metadata": {
        "colab": {
          "base_uri": "https://localhost:8080/",
          "height": 433
        },
        "id": "3J-pL6P7BMLg",
        "outputId": "439fae9e-32be-4335-bbb3-609388ca78af"
      },
      "source": [
        "data = data_cleaning(df)\n",
        "data"
      ],
      "execution_count": 26,
      "outputs": [
        {
          "output_type": "stream",
          "text": [
            "Progress  100.0 %\n"
          ],
          "name": "stdout"
        },
        {
          "output_type": "execute_result",
          "data": {
            "text/html": [
              "<div>\n",
              "<style scoped>\n",
              "    .dataframe tbody tr th:only-of-type {\n",
              "        vertical-align: middle;\n",
              "    }\n",
              "\n",
              "    .dataframe tbody tr th {\n",
              "        vertical-align: top;\n",
              "    }\n",
              "\n",
              "    .dataframe thead th {\n",
              "        text-align: right;\n",
              "    }\n",
              "</style>\n",
              "<table border=\"1\" class=\"dataframe\">\n",
              "  <thead>\n",
              "    <tr style=\"text-align: right;\">\n",
              "      <th></th>\n",
              "      <th>sentimen</th>\n",
              "      <th>Tweet</th>\n",
              "      <th>cleantweet</th>\n",
              "    </tr>\n",
              "  </thead>\n",
              "  <tbody>\n",
              "    <tr>\n",
              "      <th>0</th>\n",
              "      <td>0</td>\n",
              "      <td>barusan liat tulisan di belakang truk rela inj...</td>\n",
              "      <td>barusan liat tulis belakang truk rela injek ko...</td>\n",
              "    </tr>\n",
              "    <tr>\n",
              "      <th>1</th>\n",
              "      <td>0</td>\n",
              "      <td>her itu lho miss kevin sama keven rebutan gimb...</td>\n",
              "      <td>her lho miss kevin sama keven rebut gimbot wis...</td>\n",
              "    </tr>\n",
              "    <tr>\n",
              "      <th>2</th>\n",
              "      <td>0</td>\n",
              "      <td>iya rep gatau aku masih kelas 4 sd ehh di block</td>\n",
              "      <td>iya rep gatau aku kelas sd ehh block</td>\n",
              "    </tr>\n",
              "    <tr>\n",
              "      <th>3</th>\n",
              "      <td>0</td>\n",
              "      <td>aku mohon tepatilah janjimu penantiancintaeps19</td>\n",
              "      <td>aku mohon tepat janji penantiancintaeps</td>\n",
              "    </tr>\n",
              "    <tr>\n",
              "      <th>4</th>\n",
              "      <td>0</td>\n",
              "      <td>bukan beria nk kahwin sbb gatal celah kangkang...</td>\n",
              "      <td>bukan ria nk kahwin sbb gatal celah kangkang t...</td>\n",
              "    </tr>\n",
              "    <tr>\n",
              "      <th>...</th>\n",
              "      <td>...</td>\n",
              "      <td>...</td>\n",
              "      <td>...</td>\n",
              "    </tr>\n",
              "    <tr>\n",
              "      <th>7495</th>\n",
              "      <td>1</td>\n",
              "      <td>kelak kita akan saling meninggalkan untuk sebu...</td>\n",
              "      <td>kelak akan saling tinggal buah bahagia yang tu...</td>\n",
              "    </tr>\n",
              "    <tr>\n",
              "      <th>7496</th>\n",
              "      <td>1</td>\n",
              "      <td>cinta batik cinta indonesia haribatiknasional</td>\n",
              "      <td>cinta batik cinta indonesia haribatiknasional</td>\n",
              "    </tr>\n",
              "    <tr>\n",
              "      <th>7497</th>\n",
              "      <td>1</td>\n",
              "      <td>lucu sekali sih kamu jadi pen gigit</td>\n",
              "      <td>lucu sekali sih kamu jadi pen gigit</td>\n",
              "    </tr>\n",
              "    <tr>\n",
              "      <th>7498</th>\n",
              "      <td>1</td>\n",
              "      <td>emng gemesin mereka</td>\n",
              "      <td>emng gemesin</td>\n",
              "    </tr>\n",
              "    <tr>\n",
              "      <th>7499</th>\n",
              "      <td>1</td>\n",
              "      <td>ayukk kita serang</td>\n",
              "      <td>ayukk serang</td>\n",
              "    </tr>\n",
              "  </tbody>\n",
              "</table>\n",
              "<p>7500 rows × 3 columns</p>\n",
              "</div>"
            ],
            "text/plain": [
              "      sentimen  ...                                         cleantweet\n",
              "0            0  ...  barusan liat tulis belakang truk rela injek ko...\n",
              "1            0  ...  her lho miss kevin sama keven rebut gimbot wis...\n",
              "2            0  ...               iya rep gatau aku kelas sd ehh block\n",
              "3            0  ...            aku mohon tepat janji penantiancintaeps\n",
              "4            0  ...  bukan ria nk kahwin sbb gatal celah kangkang t...\n",
              "...        ...  ...                                                ...\n",
              "7495         1  ...  kelak akan saling tinggal buah bahagia yang tu...\n",
              "7496         1  ...      cinta batik cinta indonesia haribatiknasional\n",
              "7497         1  ...                lucu sekali sih kamu jadi pen gigit\n",
              "7498         1  ...                                       emng gemesin\n",
              "7499         1  ...                                       ayukk serang\n",
              "\n",
              "[7500 rows x 3 columns]"
            ]
          },
          "metadata": {
            "tags": []
          },
          "execution_count": 26
        }
      ]
    },
    {
      "cell_type": "code",
      "metadata": {
        "id": "Nnt5DRysCGIM"
      },
      "source": [
        "data.to_csv(\"clean data.csv\", index=False)"
      ],
      "execution_count": 27,
      "outputs": []
    },
    {
      "cell_type": "markdown",
      "metadata": {
        "id": "c8xz4Co7Fy77"
      },
      "source": [
        "# **Read Data**"
      ]
    },
    {
      "cell_type": "code",
      "metadata": {
        "colab": {
          "base_uri": "https://localhost:8080/",
          "height": 202
        },
        "id": "lZpMH7-vFxr1",
        "outputId": "469bfead-779b-49e7-e94f-2dd0343682c1"
      },
      "source": [
        "df = pd.read_csv(\"/content/Drive/My Drive/Dataset/clean data.csv\")\n",
        "df.head()"
      ],
      "execution_count": 8,
      "outputs": [
        {
          "output_type": "execute_result",
          "data": {
            "text/html": [
              "<div>\n",
              "<style scoped>\n",
              "    .dataframe tbody tr th:only-of-type {\n",
              "        vertical-align: middle;\n",
              "    }\n",
              "\n",
              "    .dataframe tbody tr th {\n",
              "        vertical-align: top;\n",
              "    }\n",
              "\n",
              "    .dataframe thead th {\n",
              "        text-align: right;\n",
              "    }\n",
              "</style>\n",
              "<table border=\"1\" class=\"dataframe\">\n",
              "  <thead>\n",
              "    <tr style=\"text-align: right;\">\n",
              "      <th></th>\n",
              "      <th>sentimen</th>\n",
              "      <th>Tweet</th>\n",
              "      <th>cleantweet</th>\n",
              "    </tr>\n",
              "  </thead>\n",
              "  <tbody>\n",
              "    <tr>\n",
              "      <th>0</th>\n",
              "      <td>0</td>\n",
              "      <td>barusan liat tulisan di belakang truk rela inj...</td>\n",
              "      <td>barusan liat tulis belakang truk rela injek ko...</td>\n",
              "    </tr>\n",
              "    <tr>\n",
              "      <th>1</th>\n",
              "      <td>0</td>\n",
              "      <td>her itu lho miss kevin sama keven rebutan gimb...</td>\n",
              "      <td>her lho miss kevin sama keven rebut gimbot wis...</td>\n",
              "    </tr>\n",
              "    <tr>\n",
              "      <th>2</th>\n",
              "      <td>0</td>\n",
              "      <td>iya rep gatau aku masih kelas 4 sd ehh di block</td>\n",
              "      <td>iya rep gatau aku kelas sd ehh block</td>\n",
              "    </tr>\n",
              "    <tr>\n",
              "      <th>3</th>\n",
              "      <td>0</td>\n",
              "      <td>aku mohon tepatilah janjimu penantiancintaeps19</td>\n",
              "      <td>aku mohon tepat janji penantiancintaeps</td>\n",
              "    </tr>\n",
              "    <tr>\n",
              "      <th>4</th>\n",
              "      <td>0</td>\n",
              "      <td>bukan beria nk kahwin sbb gatal celah kangkang...</td>\n",
              "      <td>bukan ria nk kahwin sbb gatal celah kangkang t...</td>\n",
              "    </tr>\n",
              "  </tbody>\n",
              "</table>\n",
              "</div>"
            ],
            "text/plain": [
              "   sentimen  ...                                         cleantweet\n",
              "0         0  ...  barusan liat tulis belakang truk rela injek ko...\n",
              "1         0  ...  her lho miss kevin sama keven rebut gimbot wis...\n",
              "2         0  ...               iya rep gatau aku kelas sd ehh block\n",
              "3         0  ...            aku mohon tepat janji penantiancintaeps\n",
              "4         0  ...  bukan ria nk kahwin sbb gatal celah kangkang t...\n",
              "\n",
              "[5 rows x 3 columns]"
            ]
          },
          "metadata": {
            "tags": []
          },
          "execution_count": 8
        }
      ]
    },
    {
      "cell_type": "code",
      "metadata": {
        "colab": {
          "base_uri": "https://localhost:8080/",
          "height": 202
        },
        "id": "27XIHO0EvItp",
        "outputId": "2d3367b6-fd4c-4693-ce40-58bc7e20a2fc"
      },
      "source": [
        "encoder = pd.get_dummies(df[\"sentimen\"])\n",
        "data = pd.concat([df['cleantweet'], encoder], axis=1)\n",
        "data.columns = ['Tweet','Negatif', 'Netral', 'Positif']\n",
        "data.head()"
      ],
      "execution_count": 9,
      "outputs": [
        {
          "output_type": "execute_result",
          "data": {
            "text/html": [
              "<div>\n",
              "<style scoped>\n",
              "    .dataframe tbody tr th:only-of-type {\n",
              "        vertical-align: middle;\n",
              "    }\n",
              "\n",
              "    .dataframe tbody tr th {\n",
              "        vertical-align: top;\n",
              "    }\n",
              "\n",
              "    .dataframe thead th {\n",
              "        text-align: right;\n",
              "    }\n",
              "</style>\n",
              "<table border=\"1\" class=\"dataframe\">\n",
              "  <thead>\n",
              "    <tr style=\"text-align: right;\">\n",
              "      <th></th>\n",
              "      <th>Tweet</th>\n",
              "      <th>Negatif</th>\n",
              "      <th>Netral</th>\n",
              "      <th>Positif</th>\n",
              "    </tr>\n",
              "  </thead>\n",
              "  <tbody>\n",
              "    <tr>\n",
              "      <th>0</th>\n",
              "      <td>barusan liat tulis belakang truk rela injek ko...</td>\n",
              "      <td>0</td>\n",
              "      <td>1</td>\n",
              "      <td>0</td>\n",
              "    </tr>\n",
              "    <tr>\n",
              "      <th>1</th>\n",
              "      <td>her lho miss kevin sama keven rebut gimbot wis...</td>\n",
              "      <td>0</td>\n",
              "      <td>1</td>\n",
              "      <td>0</td>\n",
              "    </tr>\n",
              "    <tr>\n",
              "      <th>2</th>\n",
              "      <td>iya rep gatau aku kelas sd ehh block</td>\n",
              "      <td>0</td>\n",
              "      <td>1</td>\n",
              "      <td>0</td>\n",
              "    </tr>\n",
              "    <tr>\n",
              "      <th>3</th>\n",
              "      <td>aku mohon tepat janji penantiancintaeps</td>\n",
              "      <td>0</td>\n",
              "      <td>1</td>\n",
              "      <td>0</td>\n",
              "    </tr>\n",
              "    <tr>\n",
              "      <th>4</th>\n",
              "      <td>bukan ria nk kahwin sbb gatal celah kangkang t...</td>\n",
              "      <td>0</td>\n",
              "      <td>1</td>\n",
              "      <td>0</td>\n",
              "    </tr>\n",
              "  </tbody>\n",
              "</table>\n",
              "</div>"
            ],
            "text/plain": [
              "                                               Tweet  Negatif  Netral  Positif\n",
              "0  barusan liat tulis belakang truk rela injek ko...        0       1        0\n",
              "1  her lho miss kevin sama keven rebut gimbot wis...        0       1        0\n",
              "2               iya rep gatau aku kelas sd ehh block        0       1        0\n",
              "3            aku mohon tepat janji penantiancintaeps        0       1        0\n",
              "4  bukan ria nk kahwin sbb gatal celah kangkang t...        0       1        0"
            ]
          },
          "metadata": {
            "tags": []
          },
          "execution_count": 9
        }
      ]
    },
    {
      "cell_type": "markdown",
      "metadata": {
        "id": "JMe1AUAevlr7"
      },
      "source": [
        "# **Train Test Split**"
      ]
    },
    {
      "cell_type": "code",
      "metadata": {
        "id": "OU3TDgE4vlb5"
      },
      "source": [
        "X = data['Tweet']\n",
        "y = data.drop('Tweet', axis=1).values\n",
        "X_train, X_test, y_train, y_test = train_test_split(X, y, test_size=0.20, random_state=123)"
      ],
      "execution_count": 24,
      "outputs": []
    },
    {
      "cell_type": "markdown",
      "metadata": {
        "id": "M1AVVJlcC5TJ"
      },
      "source": [
        "### **Vectorizer**"
      ]
    },
    {
      "cell_type": "code",
      "metadata": {
        "id": "qh-LeXO7D75i"
      },
      "source": [
        "#Count Vectorization\n",
        "countvectorizer = CountVectorizer()\n",
        "X_train = countvectorizer.fit_transform(X_train.astype('U'))\n",
        "X_test = countvectorizer.transform(X_test)"
      ],
      "execution_count": 25,
      "outputs": []
    },
    {
      "cell_type": "code",
      "metadata": {
        "id": "UoAvZN3HC4OL"
      },
      "source": [
        "#TF-IDF Vectorization\n",
        "\n",
        "tfidftransformer = TfidfTransformer()\n",
        "X_train = tfidftransformer.fit_transform(X_train).toarray()\n",
        "X_test = tfidftransformer.transform(X_test).toarray()"
      ],
      "execution_count": 26,
      "outputs": []
    },
    {
      "cell_type": "markdown",
      "metadata": {
        "id": "ov5tLX7YFxea"
      },
      "source": [
        "# **Model**"
      ]
    },
    {
      "cell_type": "code",
      "metadata": {
        "id": "DdwdLWwbFw5N"
      },
      "source": [
        "model = Sequential()\n",
        "\n",
        "model.add(Dense(units=7500,activation='relu'))\n",
        "model.add(Dropout(0.5))\n",
        "\n",
        "model.add(Dense(units=3750,activation='relu'))\n",
        "model.add(Dropout(0.5))\n",
        "\n",
        "model.add(Dense(units=250,activation='relu'))\n",
        "model.add(Dropout(0.5))\n",
        "\n",
        "model.add(Dense(units=3, activation='softmax'))\n",
        "\n",
        "opt = tf.keras.optimizers.Adam(learning_rate=0.001)\n",
        "model.compile(loss='categorical_crossentropy', optimizer=opt, metrics=['accuracy'])\n",
        "\n",
        "early_stop = EarlyStopping(monitor='val_loss', mode='min', verbose=1, patience=2)"
      ],
      "execution_count": 27,
      "outputs": []
    },
    {
      "cell_type": "code",
      "metadata": {
        "colab": {
          "base_uri": "https://localhost:8080/"
        },
        "id": "KgIG1pQfGlCq",
        "outputId": "c0f28b55-c60d-4d2a-ab04-212d19bec9ec"
      },
      "source": [
        "model.fit(x = X_train, y = y_train, batch_size = 256, epochs = 15, validation_data = (X_test, y_test), verbose = 1, callbacks=early_stop)"
      ],
      "execution_count": 28,
      "outputs": [
        {
          "output_type": "stream",
          "text": [
            "Epoch 1/15\n",
            "24/24 [==============================] - 78s 3s/step - loss: 1.0240 - accuracy: 0.4637 - val_loss: 0.8535 - val_accuracy: 0.6227\n",
            "Epoch 2/15\n",
            "24/24 [==============================] - 76s 3s/step - loss: 0.4687 - accuracy: 0.8350 - val_loss: 0.9196 - val_accuracy: 0.6187\n",
            "Epoch 3/15\n",
            "24/24 [==============================] - 76s 3s/step - loss: 0.1607 - accuracy: 0.9562 - val_loss: 1.3363 - val_accuracy: 0.6200\n",
            "Epoch 00003: early stopping\n"
          ],
          "name": "stdout"
        },
        {
          "output_type": "execute_result",
          "data": {
            "text/plain": [
              "<tensorflow.python.keras.callbacks.History at 0x7f77b9505890>"
            ]
          },
          "metadata": {
            "tags": []
          },
          "execution_count": 28
        }
      ]
    },
    {
      "cell_type": "code",
      "metadata": {
        "colab": {
          "base_uri": "https://localhost:8080/"
        },
        "id": "853REtp-4ThJ",
        "outputId": "f52e765b-be4e-4e1e-f1a2-4711f2cb7f52"
      },
      "source": [
        "score = model.evaluate(X_test, y_test, batch_size=64, verbose=1)\n",
        "print('Test accuracy:', score[1])"
      ],
      "execution_count": 29,
      "outputs": [
        {
          "output_type": "stream",
          "text": [
            "24/24 [==============================] - 7s 304ms/step - loss: 1.3363 - accuracy: 0.6200\n",
            "Test accuracy: 0.6200000047683716\n"
          ],
          "name": "stdout"
        }
      ]
    }
  ]
}