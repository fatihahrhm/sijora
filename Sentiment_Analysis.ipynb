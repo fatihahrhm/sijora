{
  "nbformat": 4,
  "nbformat_minor": 0,
  "metadata": {
    "colab": {
      "name": "Sentiment Analysis.ipynb",
      "provenance": [],
      "collapsed_sections": [],
      "authorship_tag": "ABX9TyM5qfCv51qGaIPADw31zOxU",
      "include_colab_link": true
    },
    "kernelspec": {
      "name": "python3",
      "display_name": "Python 3"
    },
    "language_info": {
      "name": "python"
    }
  },
  "cells": [
    {
      "cell_type": "markdown",
      "metadata": {
        "id": "view-in-github",
        "colab_type": "text"
      },
      "source": [
        "<a href=\"https://colab.research.google.com/github/fatihahrhm/sijora/blob/main/Sentiment_Analysis.ipynb\" target=\"_parent\"><img src=\"https://colab.research.google.com/assets/colab-badge.svg\" alt=\"Open In Colab\"/></a>"
      ]
    },
    {
      "cell_type": "code",
      "metadata": {
        "colab": {
          "base_uri": "https://localhost:8080/"
        },
        "id": "FrbO1BOl8Ct4",
        "outputId": "71f769ed-c3ec-457a-cc69-431d2a3b66d6"
      },
      "source": [
        "import pandas as pd\n",
        "import numpy as np\n",
        "import tensorflow as tf\n",
        "from tensorflow import keras\n",
        "from tensorflow.keras.callbacks import EarlyStopping\n",
        "from tensorflow.keras.layers import Dense, Activation,Dropout\n",
        "from tensorflow.keras.models import Sequential\n",
        "\n",
        "import re\n",
        "\n",
        "!pip install sastrawi\n",
        "from Sastrawi.StopWordRemover.StopWordRemoverFactory import StopWordRemoverFactory\n",
        "from Sastrawi.Stemmer.StemmerFactory import StemmerFactory\n",
        "\n",
        "!pip install emoji\n",
        "from emoji import UNICODE_EMOJI\n",
        "\n",
        "from IPython.display import clear_output\n",
        "\n",
        "from sklearn.feature_extraction.text import CountVectorizer, TfidfTransformer, TfidfVectorizer\n",
        "\n",
        "from sklearn.model_selection import train_test_split"
      ],
      "execution_count": null,
      "outputs": [
        {
          "output_type": "stream",
          "text": [
            "Collecting sastrawi\n",
            "\u001b[?25l  Downloading https://files.pythonhosted.org/packages/6f/4b/bab676953da3103003730b8fcdfadbdd20f333d4add10af949dd5c51e6ed/Sastrawi-1.0.1-py2.py3-none-any.whl (209kB)\n",
            "\r\u001b[K     |█▋                              | 10kB 17.4MB/s eta 0:00:01\r\u001b[K     |███▏                            | 20kB 23.2MB/s eta 0:00:01\r\u001b[K     |████▊                           | 30kB 13.2MB/s eta 0:00:01\r\u001b[K     |██████▎                         | 40kB 10.4MB/s eta 0:00:01\r\u001b[K     |███████▉                        | 51kB 7.1MB/s eta 0:00:01\r\u001b[K     |█████████▍                      | 61kB 7.2MB/s eta 0:00:01\r\u001b[K     |███████████                     | 71kB 7.5MB/s eta 0:00:01\r\u001b[K     |████████████▌                   | 81kB 7.2MB/s eta 0:00:01\r\u001b[K     |██████████████                  | 92kB 7.8MB/s eta 0:00:01\r\u001b[K     |███████████████▋                | 102kB 6.8MB/s eta 0:00:01\r\u001b[K     |█████████████████▏              | 112kB 6.8MB/s eta 0:00:01\r\u001b[K     |██████████████████▊             | 122kB 6.8MB/s eta 0:00:01\r\u001b[K     |████████████████████▎           | 133kB 6.8MB/s eta 0:00:01\r\u001b[K     |█████████████████████▉          | 143kB 6.8MB/s eta 0:00:01\r\u001b[K     |███████████████████████▍        | 153kB 6.8MB/s eta 0:00:01\r\u001b[K     |█████████████████████████       | 163kB 6.8MB/s eta 0:00:01\r\u001b[K     |██████████████████████████▋     | 174kB 6.8MB/s eta 0:00:01\r\u001b[K     |████████████████████████████▏   | 184kB 6.8MB/s eta 0:00:01\r\u001b[K     |█████████████████████████████▊  | 194kB 6.8MB/s eta 0:00:01\r\u001b[K     |███████████████████████████████▎| 204kB 6.8MB/s eta 0:00:01\r\u001b[K     |████████████████████████████████| 215kB 6.8MB/s \n",
            "\u001b[?25hInstalling collected packages: sastrawi\n",
            "Successfully installed sastrawi-1.0.1\n",
            "Collecting emoji\n",
            "\u001b[?25l  Downloading https://files.pythonhosted.org/packages/24/fa/b3368f41b95a286f8d300e323449ab4e86b85334c2e0b477e94422b8ed0f/emoji-1.2.0-py3-none-any.whl (131kB)\n",
            "\u001b[K     |████████████████████████████████| 133kB 6.7MB/s \n",
            "\u001b[?25hInstalling collected packages: emoji\n",
            "Successfully installed emoji-1.2.0\n"
          ],
          "name": "stdout"
        }
      ]
    },
    {
      "cell_type": "code",
      "metadata": {
        "colab": {
          "base_uri": "https://localhost:8080/"
        },
        "id": "2vcgaU4u8Y7y",
        "outputId": "7127a2b6-ac3c-4a56-84b5-a368bbc4fb4d"
      },
      "source": [
        "from google.colab import drive\n",
        "drive.mount('/content/Drive/')"
      ],
      "execution_count": null,
      "outputs": [
        {
          "output_type": "stream",
          "text": [
            "Mounted at /content/Drive/\n"
          ],
          "name": "stdout"
        }
      ]
    },
    {
      "cell_type": "markdown",
      "metadata": {
        "id": "th-0Guls9Rld"
      },
      "source": [
        "# **Load Dataset**"
      ]
    },
    {
      "cell_type": "code",
      "metadata": {
        "colab": {
          "base_uri": "https://localhost:8080/",
          "height": 202
        },
        "id": "ID40P8I98Vcn",
        "outputId": "599ee0cf-5488-4d0b-ffef-597695c60524"
      },
      "source": [
        "df = pd.read_csv(\"/content/Drive/My Drive/Dataset/dataset.csv\", delimiter=\"\t\")\n",
        "df.head()"
      ],
      "execution_count": null,
      "outputs": [
        {
          "output_type": "execute_result",
          "data": {
            "text/html": [
              "<div>\n",
              "<style scoped>\n",
              "    .dataframe tbody tr th:only-of-type {\n",
              "        vertical-align: middle;\n",
              "    }\n",
              "\n",
              "    .dataframe tbody tr th {\n",
              "        vertical-align: top;\n",
              "    }\n",
              "\n",
              "    .dataframe thead th {\n",
              "        text-align: right;\n",
              "    }\n",
              "</style>\n",
              "<table border=\"1\" class=\"dataframe\">\n",
              "  <thead>\n",
              "    <tr style=\"text-align: right;\">\n",
              "      <th></th>\n",
              "      <th>sentimen</th>\n",
              "      <th>Tweet</th>\n",
              "    </tr>\n",
              "  </thead>\n",
              "  <tbody>\n",
              "    <tr>\n",
              "      <th>0</th>\n",
              "      <td>-1</td>\n",
              "      <td>lagu bosan apa yang aku save ni huhuhuhuhuhuhu...</td>\n",
              "    </tr>\n",
              "    <tr>\n",
              "      <th>1</th>\n",
              "      <td>-1</td>\n",
              "      <td>kita lanjutkan saja diam ini hingga kau dan ak...</td>\n",
              "    </tr>\n",
              "    <tr>\n",
              "      <th>2</th>\n",
              "      <td>1</td>\n",
              "      <td>doa rezeki tak putus inna haa zaa larizquna ma...</td>\n",
              "    </tr>\n",
              "    <tr>\n",
              "      <th>3</th>\n",
              "      <td>1</td>\n",
              "      <td>makasih loh ntar kita bagi hasil aku 99 9 sisa...</td>\n",
              "    </tr>\n",
              "    <tr>\n",
              "      <th>4</th>\n",
              "      <td>-1</td>\n",
              "      <td>aku tak faham betul jenis orang malaysia yang ...</td>\n",
              "    </tr>\n",
              "  </tbody>\n",
              "</table>\n",
              "</div>"
            ],
            "text/plain": [
              "   sentimen                                              Tweet\n",
              "0        -1  lagu bosan apa yang aku save ni huhuhuhuhuhuhu...\n",
              "1        -1  kita lanjutkan saja diam ini hingga kau dan ak...\n",
              "2         1  doa rezeki tak putus inna haa zaa larizquna ma...\n",
              "3         1  makasih loh ntar kita bagi hasil aku 99 9 sisa...\n",
              "4        -1  aku tak faham betul jenis orang malaysia yang ..."
            ]
          },
          "metadata": {
            "tags": []
          },
          "execution_count": 20
        }
      ]
    },
    {
      "cell_type": "markdown",
      "metadata": {
        "id": "yAhndrvU9Xea"
      },
      "source": [
        "# **Exploratory Data Analysis**"
      ]
    },
    {
      "cell_type": "code",
      "metadata": {
        "id": "Zb9RruEP9KBg"
      },
      "source": [
        "import matplotlib.pyplot as plt\n",
        "import seaborn as sns\n",
        "%matplotlib inline"
      ],
      "execution_count": null,
      "outputs": []
    },
    {
      "cell_type": "code",
      "metadata": {
        "colab": {
          "base_uri": "https://localhost:8080/",
          "height": 313
        },
        "id": "1-DrY3P_9i03",
        "outputId": "4c14f745-2e5a-4e8a-f669-59149361930b"
      },
      "source": [
        "sns.countplot(x='sentimen', data=df).set_title('Sentiment Countplot')"
      ],
      "execution_count": null,
      "outputs": [
        {
          "output_type": "execute_result",
          "data": {
            "text/plain": [
              "Text(0.5, 1.0, 'Sentiment Countplot')"
            ]
          },
          "metadata": {
            "tags": []
          },
          "execution_count": 22
        },
        {
          "output_type": "display_data",
          "data": {
            "image/png": "[encoded data removed]",
            "text/plain": [
              "<Figure size 432x288 with 1 Axes>"
            ]
          },
          "metadata": {
            "tags": [],
            "needs_background": "light"
          }
        }
      ]
    },
    {
      "cell_type": "code",
      "metadata": {
        "colab": {
          "base_uri": "https://localhost:8080/",
          "height": 415
        },
        "id": "nxJL8GXDq4CY",
        "outputId": "0c5bb0c5-df68-41d1-df9d-93a5d3d87893"
      },
      "source": [
        "neutral = df[df['sentimen'] == 0][0:2500]\n",
        "negative = df[df['sentimen'] == -1][0:2500]\n",
        "positive = df[df['sentimen'] == 1][0:2500]\n",
        "\n",
        "df = pd.concat([neutral, negative, positive], axis=0)\n",
        "df.reset_index(drop=True, inplace=True)\n",
        "df"
      ],
      "execution_count": null,
      "outputs": [
        {
          "output_type": "execute_result",
          "data": {
            "text/html": [
              "<div>\n",
              "<style scoped>\n",
              "    .dataframe tbody tr th:only-of-type {\n",
              "        vertical-align: middle;\n",
              "    }\n",
              "\n",
              "    .dataframe tbody tr th {\n",
              "        vertical-align: top;\n",
              "    }\n",
              "\n",
              "    .dataframe thead th {\n",
              "        text-align: right;\n",
              "    }\n",
              "</style>\n",
              "<table border=\"1\" class=\"dataframe\">\n",
              "  <thead>\n",
              "    <tr style=\"text-align: right;\">\n",
              "      <th></th>\n",
              "      <th>sentimen</th>\n",
              "      <th>Tweet</th>\n",
              "    </tr>\n",
              "  </thead>\n",
              "  <tbody>\n",
              "    <tr>\n",
              "      <th>0</th>\n",
              "      <td>0</td>\n",
              "      <td>barusan liat tulisan di belakang truk rela inj...</td>\n",
              "    </tr>\n",
              "    <tr>\n",
              "      <th>1</th>\n",
              "      <td>0</td>\n",
              "      <td>her itu lho miss kevin sama keven rebutan gimb...</td>\n",
              "    </tr>\n",
              "    <tr>\n",
              "      <th>2</th>\n",
              "      <td>0</td>\n",
              "      <td>iya rep gatau aku masih kelas 4 sd ehh di block</td>\n",
              "    </tr>\n",
              "    <tr>\n",
              "      <th>3</th>\n",
              "      <td>0</td>\n",
              "      <td>aku mohon tepatilah janjimu penantiancintaeps19</td>\n",
              "    </tr>\n",
              "    <tr>\n",
              "      <th>4</th>\n",
              "      <td>0</td>\n",
              "      <td>bukan beria nk kahwin sbb gatal celah kangkang...</td>\n",
              "    </tr>\n",
              "    <tr>\n",
              "      <th>...</th>\n",
              "      <td>...</td>\n",
              "      <td>...</td>\n",
              "    </tr>\n",
              "    <tr>\n",
              "      <th>7495</th>\n",
              "      <td>1</td>\n",
              "      <td>kelak kita akan saling meninggalkan untuk sebu...</td>\n",
              "    </tr>\n",
              "    <tr>\n",
              "      <th>7496</th>\n",
              "      <td>1</td>\n",
              "      <td>cinta batik cinta indonesia haribatiknasional</td>\n",
              "    </tr>\n",
              "    <tr>\n",
              "      <th>7497</th>\n",
              "      <td>1</td>\n",
              "      <td>lucu sekali sih kamu jadi pen gigit</td>\n",
              "    </tr>\n",
              "    <tr>\n",
              "      <th>7498</th>\n",
              "      <td>1</td>\n",
              "      <td>emng gemesin mereka</td>\n",
              "    </tr>\n",
              "    <tr>\n",
              "      <th>7499</th>\n",
              "      <td>1</td>\n",
              "      <td>ayukk kita serang</td>\n",
              "    </tr>\n",
              "  </tbody>\n",
              "</table>\n",
              "<p>7500 rows × 2 columns</p>\n",
              "</div>"
            ],
            "text/plain": [
              "      sentimen                                              Tweet\n",
              "0            0  barusan liat tulisan di belakang truk rela inj...\n",
              "1            0  her itu lho miss kevin sama keven rebutan gimb...\n",
              "2            0   iya rep gatau aku masih kelas 4 sd ehh di block \n",
              "3            0    aku mohon tepatilah janjimu penantiancintaeps19\n",
              "4            0  bukan beria nk kahwin sbb gatal celah kangkang...\n",
              "...        ...                                                ...\n",
              "7495         1  kelak kita akan saling meninggalkan untuk sebu...\n",
              "7496         1      cinta batik cinta indonesia haribatiknasional\n",
              "7497         1               lucu sekali sih kamu jadi pen gigit \n",
              "7498         1                               emng gemesin mereka \n",
              "7499         1                                  ayukk kita serang\n",
              "\n",
              "[7500 rows x 2 columns]"
            ]
          },
          "metadata": {
            "tags": []
          },
          "execution_count": 23
        }
      ]
    },
    {
      "cell_type": "markdown",
      "metadata": {
        "id": "Gn7uoIGH_S2g"
      },
      "source": [
        "# **Preprocessing**"
      ]
    },
    {
      "cell_type": "code",
      "metadata": {
        "id": "cNWzPfvwAlSq"
      },
      "source": [
        "emoji = {}\n",
        "with open('/content/Drive/My Drive/Dataset/emoji.txt', encoding=\"utf8\") as file:\n",
        "    for line in file:\n",
        "        k, v = line.strip().split(', ')\n",
        "        emoji[k] = v\n",
        "\n",
        "def is_emoji(s):\n",
        "    return s in UNICODE_EMOJI\n",
        "\n",
        "def replace_emoji(tweet):\n",
        "    result = ' '\n",
        "    for char in tweet:\n",
        "        if is_emoji(char):\n",
        "            result = result + ' ' + emoji.get(char, char)\n",
        "        else:\n",
        "            result += emoji.get(char, char)\n",
        "    return result"
      ],
      "execution_count": null,
      "outputs": []
    },
    {
      "cell_type": "code",
      "metadata": {
        "id": "tqSbmaZYA5RZ"
      },
      "source": [
        "# get stopwords\n",
        "factory = StopWordRemoverFactory()\n",
        "stopword = factory.create_stop_word_remover()\n",
        "\n",
        "# initiate stemmer\n",
        "factory = StemmerFactory()\n",
        "stemmer = factory.create_stemmer()\n",
        "\n",
        "def data_cleaning(data): \n",
        "\n",
        "    cek = []\n",
        "    for i, tweet in enumerate (data['Tweet']):\n",
        "        tweet = tweet.lower()\n",
        "        \n",
        "        # remove @username\n",
        "        tweet = re.sub(\"(@[^\\s]+|@[A-Za-z0-9]+)\", \" \", tweet)\n",
        "\n",
        "        # replace emoji\n",
        "        tweet = replace_emoji(str(tweet))        \n",
        "        \n",
        "        # stopword removal\n",
        "        tweet = stopword.remove(tweet)\n",
        "        tweet = re.sub(\"\\d+\", \"\", tweet)\n",
        "\n",
        "        # stemming\n",
        "        tweet = stemmer.stem(tweet)\n",
        "        \n",
        "        # remove duplicate char\n",
        "        tweet = re.sub(r'(.)\\1+$', r'\\1', tweet)\n",
        "        # tokenizing + append\n",
        "        cek.append(tweet.strip())\n",
        "        \n",
        "        clear_output(wait=True)\n",
        "        print(\"Progress \", str((i+1)/len(data['Tweet'])*100) + \" %\" )\n",
        "    data['cleantweet'] = cek\n",
        "    return data"
      ],
      "execution_count": null,
      "outputs": []
    },
    {
      "cell_type": "code",
      "metadata": {
        "colab": {
          "base_uri": "https://localhost:8080/",
          "height": 433
        },
        "id": "3J-pL6P7BMLg",
        "outputId": "439fae9e-32be-4335-bbb3-609388ca78af"
      },
      "source": [
        "data = data_cleaning(df)\n",
        "data"
      ],
      "execution_count": null,
      "outputs": [
        {
          "output_type": "stream",
          "text": [
            "Progress  100.0 %\n"
          ],
          "name": "stdout"
        },
        {
          "output_type": "execute_result",
          "data": {
            "text/html": [
              "<div>\n",
              "<style scoped>\n",
              "    .dataframe tbody tr th:only-of-type {\n",
              "        vertical-align: middle;\n",
              "    }\n",
              "\n",
              "    .dataframe tbody tr th {\n",
              "        vertical-align: top;\n",
              "    }\n",
              "\n",
              "    .dataframe thead th {\n",
              "        text-align: right;\n",
              "    }\n",
              "</style>\n",
              "<table border=\"1\" class=\"dataframe\">\n",
              "  <thead>\n",
              "    <tr style=\"text-align: right;\">\n",
              "      <th></th>\n",
              "      <th>sentimen</th>\n",
              "      <th>Tweet</th>\n",
              "      <th>cleantweet</th>\n",
              "    </tr>\n",
              "  </thead>\n",
              "  <tbody>\n",
              "    <tr>\n",
              "      <th>0</th>\n",
              "      <td>0</td>\n",
              "      <td>barusan liat tulisan di belakang truk rela inj...</td>\n",
              "      <td>barusan liat tulis belakang truk rela injek ko...</td>\n",
              "    </tr>\n",
              "    <tr>\n",
              "      <th>1</th>\n",
              "      <td>0</td>\n",
              "      <td>her itu lho miss kevin sama keven rebutan gimb...</td>\n",
              "      <td>her lho miss kevin sama keven rebut gimbot wis...</td>\n",
              "    </tr>\n",
              "    <tr>\n",
              "      <th>2</th>\n",
              "      <td>0</td>\n",
              "      <td>iya rep gatau aku masih kelas 4 sd ehh di block</td>\n",
              "      <td>iya rep gatau aku kelas sd ehh block</td>\n",
              "    </tr>\n",
              "    <tr>\n",
              "      <th>3</th>\n",
              "      <td>0</td>\n",
              "      <td>aku mohon tepatilah janjimu penantiancintaeps19</td>\n",
              "      <td>aku mohon tepat janji penantiancintaeps</td>\n",
              "    </tr>\n",
              "    <tr>\n",
              "      <th>4</th>\n",
              "      <td>0</td>\n",
              "      <td>bukan beria nk kahwin sbb gatal celah kangkang...</td>\n",
              "      <td>bukan ria nk kahwin sbb gatal celah kangkang t...</td>\n",
              "    </tr>\n",
              "    <tr>\n",
              "      <th>...</th>\n",
              "      <td>...</td>\n",
              "      <td>...</td>\n",
              "      <td>...</td>\n",
              "    </tr>\n",
              "    <tr>\n",
              "      <th>7495</th>\n",
              "      <td>1</td>\n",
              "      <td>kelak kita akan saling meninggalkan untuk sebu...</td>\n",
              "      <td>kelak akan saling tinggal buah bahagia yang tu...</td>\n",
              "    </tr>\n",
              "    <tr>\n",
              "      <th>7496</th>\n",
              "      <td>1</td>\n",
              "      <td>cinta batik cinta indonesia haribatiknasional</td>\n",
              "      <td>cinta batik cinta indonesia haribatiknasional</td>\n",
              "    </tr>\n",
              "    <tr>\n",
              "      <th>7497</th>\n",
              "      <td>1</td>\n",
              "      <td>lucu sekali sih kamu jadi pen gigit</td>\n",
              "      <td>lucu sekali sih kamu jadi pen gigit</td>\n",
              "    </tr>\n",
              "    <tr>\n",
              "      <th>7498</th>\n",
              "      <td>1</td>\n",
              "      <td>emng gemesin mereka</td>\n",
              "      <td>emng gemesin</td>\n",
              "    </tr>\n",
              "    <tr>\n",
              "      <th>7499</th>\n",
              "      <td>1</td>\n",
              "      <td>ayukk kita serang</td>\n",
              "      <td>ayukk serang</td>\n",
              "    </tr>\n",
              "  </tbody>\n",
              "</table>\n",
              "<p>7500 rows × 3 columns</p>\n",
              "</div>"
            ],
            "text/plain": [
              "      sentimen  ...                                         cleantweet\n",
              "0            0  ...  barusan liat tulis belakang truk rela injek ko...\n",
              "1            0  ...  her lho miss kevin sama keven rebut gimbot wis...\n",
              "2            0  ...               iya rep gatau aku kelas sd ehh block\n",
              "3            0  ...            aku mohon tepat janji penantiancintaeps\n",
              "4            0  ...  bukan ria nk kahwin sbb gatal celah kangkang t...\n",
              "...        ...  ...                                                ...\n",
              "7495         1  ...  kelak akan saling tinggal buah bahagia yang tu...\n",
              "7496         1  ...      cinta batik cinta indonesia haribatiknasional\n",
              "7497         1  ...                lucu sekali sih kamu jadi pen gigit\n",
              "7498         1  ...                                       emng gemesin\n",
              "7499         1  ...                                       ayukk serang\n",
              "\n",
              "[7500 rows x 3 columns]"
            ]
          },
          "metadata": {
            "tags": []
          },
          "execution_count": 26
        }
      ]
    },
    {
      "cell_type": "code",
      "metadata": {
        "id": "Nnt5DRysCGIM"
      },
      "source": [
        "data.to_csv(\"clean data.csv\", index=False)"
      ],
      "execution_count": null,
      "outputs": []
    },
    {
      "cell_type": "markdown",
      "metadata": {
        "id": "c8xz4Co7Fy77"
      },
      "source": [
        "# **Read Data**"
      ]
    },
    {
      "cell_type": "code",
      "metadata": {
        "colab": {
          "base_uri": "https://localhost:8080/",
          "height": 202
        },
        "id": "lZpMH7-vFxr1",
        "outputId": "e6fd5ed0-8313-45e3-b13e-217e0973ffc6"
      },
      "source": [
        "df = pd.read_csv(\"/content/Drive/My Drive/Dataset/clean data.csv\")\n",
        "df.head()"
      ],
      "execution_count": null,
      "outputs": [
        {
          "output_type": "execute_result",
          "data": {
            "text/html": [
              "<div>\n",
              "<style scoped>\n",
              "    .dataframe tbody tr th:only-of-type {\n",
              "        vertical-align: middle;\n",
              "    }\n",
              "\n",
              "    .dataframe tbody tr th {\n",
              "        vertical-align: top;\n",
              "    }\n",
              "\n",
              "    .dataframe thead th {\n",
              "        text-align: right;\n",
              "    }\n",
              "</style>\n",
              "<table border=\"1\" class=\"dataframe\">\n",
              "  <thead>\n",
              "    <tr style=\"text-align: right;\">\n",
              "      <th></th>\n",
              "      <th>sentimen</th>\n",
              "      <th>Tweet</th>\n",
              "      <th>cleantweet</th>\n",
              "    </tr>\n",
              "  </thead>\n",
              "  <tbody>\n",
              "    <tr>\n",
              "      <th>0</th>\n",
              "      <td>0</td>\n",
              "      <td>barusan liat tulisan di belakang truk rela inj...</td>\n",
              "      <td>barusan liat tulis belakang truk rela injek ko...</td>\n",
              "    </tr>\n",
              "    <tr>\n",
              "      <th>1</th>\n",
              "      <td>0</td>\n",
              "      <td>her itu lho miss kevin sama keven rebutan gimb...</td>\n",
              "      <td>her lho miss kevin sama keven rebut gimbot wis...</td>\n",
              "    </tr>\n",
              "    <tr>\n",
              "      <th>2</th>\n",
              "      <td>0</td>\n",
              "      <td>iya rep gatau aku masih kelas 4 sd ehh di block</td>\n",
              "      <td>iya rep gatau aku kelas sd ehh block</td>\n",
              "    </tr>\n",
              "    <tr>\n",
              "      <th>3</th>\n",
              "      <td>0</td>\n",
              "      <td>aku mohon tepatilah janjimu penantiancintaeps19</td>\n",
              "      <td>aku mohon tepat janji penantiancintaeps</td>\n",
              "    </tr>\n",
              "    <tr>\n",
              "      <th>4</th>\n",
              "      <td>0</td>\n",
              "      <td>bukan beria nk kahwin sbb gatal celah kangkang...</td>\n",
              "      <td>bukan ria nk kahwin sbb gatal celah kangkang t...</td>\n",
              "    </tr>\n",
              "  </tbody>\n",
              "</table>\n",
              "</div>"
            ],
            "text/plain": [
              "   sentimen  ...                                         cleantweet\n",
              "0         0  ...  barusan liat tulis belakang truk rela injek ko...\n",
              "1         0  ...  her lho miss kevin sama keven rebut gimbot wis...\n",
              "2         0  ...               iya rep gatau aku kelas sd ehh block\n",
              "3         0  ...            aku mohon tepat janji penantiancintaeps\n",
              "4         0  ...  bukan ria nk kahwin sbb gatal celah kangkang t...\n",
              "\n",
              "[5 rows x 3 columns]"
            ]
          },
          "metadata": {
            "tags": []
          },
          "execution_count": 3
        }
      ]
    },
    {
      "cell_type": "code",
      "metadata": {
        "colab": {
          "base_uri": "https://localhost:8080/",
          "height": 202
        },
        "id": "27XIHO0EvItp",
        "outputId": "ff28fadb-9995-4d8c-b7fc-c56a50201fb3"
      },
      "source": [
        "encoder = pd.get_dummies(df[\"sentimen\"])\n",
        "data = pd.concat([df['cleantweet'], encoder], axis=1)\n",
        "data.columns = ['Tweet','Negatif', 'Netral', 'Positif']\n",
        "data.head()"
      ],
      "execution_count": null,
      "outputs": [
        {
          "output_type": "execute_result",
          "data": {
            "text/html": [
              "<div>\n",
              "<style scoped>\n",
              "    .dataframe tbody tr th:only-of-type {\n",
              "        vertical-align: middle;\n",
              "    }\n",
              "\n",
              "    .dataframe tbody tr th {\n",
              "        vertical-align: top;\n",
              "    }\n",
              "\n",
              "    .dataframe thead th {\n",
              "        text-align: right;\n",
              "    }\n",
              "</style>\n",
              "<table border=\"1\" class=\"dataframe\">\n",
              "  <thead>\n",
              "    <tr style=\"text-align: right;\">\n",
              "      <th></th>\n",
              "      <th>Tweet</th>\n",
              "      <th>Negatif</th>\n",
              "      <th>Netral</th>\n",
              "      <th>Positif</th>\n",
              "    </tr>\n",
              "  </thead>\n",
              "  <tbody>\n",
              "    <tr>\n",
              "      <th>0</th>\n",
              "      <td>barusan liat tulis belakang truk rela injek ko...</td>\n",
              "      <td>0</td>\n",
              "      <td>1</td>\n",
              "      <td>0</td>\n",
              "    </tr>\n",
              "    <tr>\n",
              "      <th>1</th>\n",
              "      <td>her lho miss kevin sama keven rebut gimbot wis...</td>\n",
              "      <td>0</td>\n",
              "      <td>1</td>\n",
              "      <td>0</td>\n",
              "    </tr>\n",
              "    <tr>\n",
              "      <th>2</th>\n",
              "      <td>iya rep gatau aku kelas sd ehh block</td>\n",
              "      <td>0</td>\n",
              "      <td>1</td>\n",
              "      <td>0</td>\n",
              "    </tr>\n",
              "    <tr>\n",
              "      <th>3</th>\n",
              "      <td>aku mohon tepat janji penantiancintaeps</td>\n",
              "      <td>0</td>\n",
              "      <td>1</td>\n",
              "      <td>0</td>\n",
              "    </tr>\n",
              "    <tr>\n",
              "      <th>4</th>\n",
              "      <td>bukan ria nk kahwin sbb gatal celah kangkang t...</td>\n",
              "      <td>0</td>\n",
              "      <td>1</td>\n",
              "      <td>0</td>\n",
              "    </tr>\n",
              "  </tbody>\n",
              "</table>\n",
              "</div>"
            ],
            "text/plain": [
              "                                               Tweet  Negatif  Netral  Positif\n",
              "0  barusan liat tulis belakang truk rela injek ko...        0       1        0\n",
              "1  her lho miss kevin sama keven rebut gimbot wis...        0       1        0\n",
              "2               iya rep gatau aku kelas sd ehh block        0       1        0\n",
              "3            aku mohon tepat janji penantiancintaeps        0       1        0\n",
              "4  bukan ria nk kahwin sbb gatal celah kangkang t...        0       1        0"
            ]
          },
          "metadata": {
            "tags": []
          },
          "execution_count": 4
        }
      ]
    },
    {
      "cell_type": "markdown",
      "metadata": {
        "id": "JMe1AUAevlr7"
      },
      "source": [
        "# **Train Test Split**"
      ]
    },
    {
      "cell_type": "code",
      "metadata": {
        "id": "OU3TDgE4vlb5"
      },
      "source": [
        "X = data['Tweet']\n",
        "y = data.drop('Tweet', axis=1).values\n",
        "X_train, X_test, y_train, y_test = train_test_split(X, y, test_size=0.35, random_state=123)"
      ],
      "execution_count": null,
      "outputs": []
    },
    {
      "cell_type": "markdown",
      "metadata": {
        "id": "M1AVVJlcC5TJ"
      },
      "source": [
        "### **Vectorizer**"
      ]
    },
    {
      "cell_type": "code",
      "metadata": {
        "id": "qh-LeXO7D75i"
      },
      "source": [
        "#Count Vectorization\n",
        "countvectorizer = CountVectorizer()\n",
        "X_train = countvectorizer.fit_transform(X_train.astype('U'))\n",
        "X_test = countvectorizer.transform(X_test)"
      ],
      "execution_count": null,
      "outputs": []
    },
    {
      "cell_type": "code",
      "metadata": {
        "id": "UoAvZN3HC4OL"
      },
      "source": [
        "#TF-IDF Vectorization\n",
        "\n",
        "tfidftransformer = TfidfTransformer()\n",
        "X_train = tfidftransformer.fit_transform(X_train).toarray()\n",
        "X_test = tfidftransformer.transform(X_test).toarray()"
      ],
      "execution_count": null,
      "outputs": []
    },
    {
      "cell_type": "markdown",
      "metadata": {
        "id": "ov5tLX7YFxea"
      },
      "source": [
        "# **Model**"
      ]
    },
    {
      "cell_type": "code",
      "metadata": {
        "id": "DdwdLWwbFw5N"
      },
      "source": [
        "model = Sequential()\n",
        "\n",
        "model.add(Dense(units=2500,activation='relu'))\n",
        "model.add(Dropout(0.5))\n",
        "\n",
        "model.add(Dense(units=1000,activation='relu'))\n",
        "# model.add(Dropout(0.5))\n",
        "\n",
        "model.add(Dense(units=250,activation='relu'))\n",
        "# model.add(Dropout(0.5))\n",
        "\n",
        "model.add(Dense(units=3, activation='softmax'))\n",
        "\n",
        "# opt = tf.keras.optimizers.Adam(learning_rate=0.001)\n",
        "model.compile(loss='categorical_crossentropy', optimizer='adam', metrics=['accuracy'])\n",
        "\n",
        "early_stop = EarlyStopping(monitor='val_loss', mode='min', verbose=1, patience=2)"
      ],
      "execution_count": null,
      "outputs": []
    },
    {
      "cell_type": "code",
      "metadata": {
        "id": "ZjWtkx0ffgt3"
      },
      "source": [
        "model = tf.keras.Sequential([\n",
        "    tf.keras.layers.Dense(512, activation='relu'),    \n",
        "    tf.keras.layers.Dropout(0.25),\n",
        "    tf.keras.layers.Dense(128, activation='relu'),\n",
        "    tf.keras.layers.Dropout(0.25),\n",
        "    tf.keras.layers.Dense(3, activation='softmax')\n",
        "])\n",
        "model.compile(loss='categorical_crossentropy', optimizer='adam', metrics=['accuracy'])\n",
        "early_stop = EarlyStopping(monitor='val_loss', mode='min', verbose=1, patience=2)"
      ],
      "execution_count": null,
      "outputs": []
    },
    {
      "cell_type": "code",
      "metadata": {
        "colab": {
          "base_uri": "https://localhost:8080/"
        },
        "id": "KgIG1pQfGlCq",
        "outputId": "dbd1cc1a-0695-4f93-a450-27268b35d59a"
      },
      "source": [
        "model.fit(x = X_train, y = y_train, batch_size = 64, epochs = 20, validation_data = (X_test, y_test), verbose = 1, callbacks=early_stop)"
      ],
      "execution_count": null,
      "outputs": [
        {
          "output_type": "stream",
          "text": [
            "Epoch 1/20\n",
            "77/77 [==============================] - 3s 41ms/step - loss: 0.0363 - accuracy: 0.9819 - val_loss: 1.8858 - val_accuracy: 0.5798\n",
            "Epoch 2/20\n",
            "77/77 [==============================] - 3s 40ms/step - loss: 0.0315 - accuracy: 0.9828 - val_loss: 1.9637 - val_accuracy: 0.5790\n",
            "Epoch 3/20\n",
            "77/77 [==============================] - 3s 40ms/step - loss: 0.0325 - accuracy: 0.9822 - val_loss: 1.9966 - val_accuracy: 0.5798\n",
            "Epoch 00003: early stopping\n"
          ],
          "name": "stdout"
        },
        {
          "output_type": "execute_result",
          "data": {
            "text/plain": [
              "<tensorflow.python.keras.callbacks.History at 0x7fa030946a10>"
            ]
          },
          "metadata": {
            "tags": []
          },
          "execution_count": 42
        }
      ]
    },
    {
      "cell_type": "code",
      "metadata": {
        "colab": {
          "base_uri": "https://localhost:8080/"
        },
        "id": "853REtp-4ThJ",
        "outputId": "3421ce1b-50d0-43c2-b23f-a1c14196eb6b"
      },
      "source": [
        "score = model.evaluate(X_test, y_test, batch_size=64, verbose=1)\n",
        "print('Test accuracy:', score[1])"
      ],
      "execution_count": null,
      "outputs": [
        {
          "output_type": "stream",
          "text": [
            "42/42 [==============================] - 0s 11ms/step - loss: 1.2189 - accuracy: 0.6000\n",
            "Test accuracy: 0.6000000238418579\n"
          ],
          "name": "stdout"
        }
      ]
    }
  ]
}