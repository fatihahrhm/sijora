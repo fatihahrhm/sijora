{
 "metadata": {
  "language_info": {
   "codemirror_mode": {
    "name": "ipython",
    "version": 3
   },
   "file_extension": ".py",
   "mimetype": "text/x-python",
   "name": "python",
   "nbconvert_exporter": "python",
   "pygments_lexer": "ipython3",
   "version": "3.8.1"
  },
  "orig_nbformat": 2,
  "kernelspec": {
   "name": "python381jvsc74a57bd00ea0d9382c92e9fce6e0b3ad5a5fa5a41a03cb469de77f91c6900c460a25d5b7",
   "display_name": "Python 3.8.1 64-bit"
  }
 },
 "nbformat": 4,
 "nbformat_minor": 2,
 "cells": [
  {
   "cell_type": "code",
   "execution_count": 36,
   "metadata": {},
   "outputs": [],
   "source": [
    "import tweepy\n",
    "import pandas as pd\n",
    "import re\n",
    "\n",
    "consumer_key = \"h5g9VvA0TxfSFnru8fzSAQif4\"\n",
    "consumer_secret = \"iIovoGF3J35LwgJ7Ht6SBhvWiDYdN8xn9SuVRvE4Z5vsZZYXCt\"\n",
    "access_token = \"1067941386-2IigAD1hKedjeNLS3DKsInbdnZ33rutJwlWYTYk\"\n",
    "access_token_secret = \"tEiKbY4HbS58g72EOcCnuVk09Th29qOSt5gT1FQlow9IE\"\n",
    "\n",
    "auth = tweepy.OAuthHandler(consumer_key, consumer_secret)\n",
    "auth.set_access_token(access_token, access_token_secret)\n",
    "api = tweepy.API(auth, wait_on_rate_limit=True)\n",
    "\n",
    "tweets = tweepy.Cursor(api.user_timeline,\n",
    "            id='DKIJakarta',\n",
    "            q=\" -filter:@\",\n",
    "            include_rts=False,\n",
    "            exclude_replies=True,\n",
    "            tweet_mode='extended').items(200)  \n"
   ]
  },
  {
   "cell_type": "code",
   "execution_count": 38,
   "metadata": {},
   "outputs": [],
   "source": [
    "tags = set()\n",
    "for tweet in tweets:\n",
    "    tags.update(set(re.findall(r\"#(\\w+)\", tweet.full_text)))"
   ]
  },
  {
   "cell_type": "code",
   "execution_count": 40,
   "metadata": {},
   "outputs": [
    {
     "output_type": "execute_result",
     "data": {
      "text/plain": [
       "303"
      ]
     },
     "metadata": {},
     "execution_count": 40
    }
   ],
   "source": [
    "len(tags)"
   ]
  }
 ]
}