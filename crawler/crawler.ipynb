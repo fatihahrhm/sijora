{
 "metadata": {
  "language_info": {
   "codemirror_mode": {
    "name": "ipython",
    "version": 3
   },
   "file_extension": ".py",
   "mimetype": "text/x-python",
   "name": "python",
   "nbconvert_exporter": "python",
   "pygments_lexer": "ipython3",
   "version": "3.8.1"
  },
  "orig_nbformat": 2,
  "kernelspec": {
   "name": "python381jvsc74a57bd00ea0d9382c92e9fce6e0b3ad5a5fa5a41a03cb469de77f91c6900c460a25d5b7",
   "display_name": "Python 3.8.1 64-bit"
  }
 },
 "nbformat": 4,
 "nbformat_minor": 2,
 "cells": [
  {
   "cell_type": "code",
   "execution_count": 1,
   "metadata": {},
   "outputs": [],
   "source": [
    "import pandas as pd\n",
    "import numpy as np\n",
    "from datetime import date, timedelta\n",
    "import re, string, sqlite3, tweepy\n"
   ]
  },
  {
   "cell_type": "code",
   "execution_count": 2,
   "metadata": {},
   "outputs": [],
   "source": [
    "def crawling(keyword):\n",
    "    consumer_key = \"\"\n",
    "    consumer_secret = \"\"\n",
    "    access_token = \"\"\n",
    "    access_token_secret = \"\"\n",
    "\n",
    "    auth = tweepy.OAuthHandler(consumer_key, consumer_secret)\n",
    "    auth.set_access_token(access_token, access_token_secret)\n",
    "    api = tweepy.API(auth, wait_on_rate_limit=True)\n",
    "\n",
    "    search_words = keyword\n",
    "    new_search = search_words + \" -filter:retweets\"\n",
    "\n",
    "    tweets = tweepy.Cursor(api.search,\n",
    "                q = new_search,\n",
    "                lang = \"id\", \n",
    "                tweet_mode = 'extended').items(2000)    \n",
    "\n",
    "    items = []\n",
    "    tweetId = []\n",
    "    dates = []\n",
    "    username = []\n",
    "    for tweet in tweets:\n",
    "        items.append(tweet.full_text)\n",
    "        tweetId.append(tweet.id)\n",
    "        dates.append(tweet.created_at)\n",
    "        username.append(tweet.user.screen_name)\n",
    "\n",
    "    result = pd.DataFrame(list(zip(tweetId, dates, username, items)), columns=['tweetId', 'date', 'username', 'tweet'])\n",
    "    return result\n",
    " "
   ]
  },
  {
   "cell_type": "code",
   "execution_count": 3,
   "metadata": {},
   "outputs": [],
   "source": [
    "def save_to_csv(data, keyword):\n",
    "    file_name = keyword + \" \" + str(date.today()) + \".csv\"\n",
    "    data.to_csv(file_name, index=False)\n"
   ]
  },
  {
   "cell_type": "code",
   "execution_count": null,
   "metadata": {},
   "outputs": [],
   "source": [
    "keyword = \"larangan mudik\"\n",
    "tweets = crawling(keyword)\n",
    "save_to_csv(tweets, keyword)\n",
    "print(tweets)"
   ]
  }
 ]
}